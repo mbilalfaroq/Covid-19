{
 "cells": [
  {
   "cell_type": "code",
   "execution_count": null,
   "id": "a507e651",
   "metadata": {},
   "outputs": [],
   "source": [
    "ls"
   ]
  },
  {
   "cell_type": "markdown",
   "id": "112dfc31",
   "metadata": {},
   "source": [
    "![Crisp_DM](../reports\\figures\\Crisp_DM.png)"
   ]
  },
  {
   "cell_type": "markdown",
   "id": "e1866f36",
   "metadata": {},
   "source": [
    "#   Business Understanding "
   ]
  },
  {
   "cell_type": "markdown",
   "id": "e2890aa9",
   "metadata": {},
   "source": [
    "We would like to track corona virus spread"
   ]
  },
  {
   "cell_type": "code",
   "execution_count": null,
   "id": "61eb6890",
   "metadata": {},
   "outputs": [],
   "source": []
  }
 ],
 "metadata": {
  "kernelspec": {
   "display_name": "Python 3 (ipykernel)",
   "language": "python",
   "name": "python3"
  },
  "language_info": {
   "codemirror_mode": {
    "name": "ipython",
    "version": 3
   },
   "file_extension": ".py",
   "mimetype": "text/x-python",
   "name": "python",
   "nbconvert_exporter": "python",
   "pygments_lexer": "ipython3",
   "version": "3.9.12"
  }
 },
 "nbformat": 4,
 "nbformat_minor": 5
}
