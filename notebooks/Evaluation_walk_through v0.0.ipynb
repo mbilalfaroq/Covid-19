{
 "cells": [
  {
   "cell_type": "markdown",
   "id": "ca060ab9",
   "metadata": {},
   "source": [
    "## 1 Update all data"
   ]
  },
  {
   "cell_type": "markdown",
   "id": "759457bf",
   "metadata": {},
   "source": [
    "## 2 Process pipeline"
   ]
  },
  {
   "cell_type": "markdown",
   "id": "8f26f988",
   "metadata": {},
   "source": [
    "## 3 Filter and Doubling Rate Calculation"
   ]
  },
  {
   "cell_type": "markdown",
   "id": "82a42512",
   "metadata": {},
   "source": [
    "## 4 Visual Board"
   ]
  },
  {
   "cell_type": "code",
   "execution_count": null,
   "id": "d2bbffcf",
   "metadata": {},
   "outputs": [],
   "source": []
  }
 ],
 "metadata": {
  "kernelspec": {
   "display_name": "Python 3 (ipykernel)",
   "language": "python",
   "name": "python3"
  },
  "language_info": {
   "codemirror_mode": {
    "name": "ipython",
    "version": 3
   },
   "file_extension": ".py",
   "mimetype": "text/x-python",
   "name": "python",
   "nbconvert_exporter": "python",
   "pygments_lexer": "ipython3",
   "version": "3.9.12"
  }
 },
 "nbformat": 4,
 "nbformat_minor": 5
}
